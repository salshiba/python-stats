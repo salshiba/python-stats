{
 "cells": [
  {
   "cell_type": "code",
   "execution_count": null,
   "id": "cb53737c",
   "metadata": {},
   "outputs": [],
   "source": [
    "%pip install pandas openpyxl scipy==1.15.3 statsmodels"
   ]
  },
  {
   "cell_type": "code",
   "execution_count": 3,
   "id": "3a00a4aa",
   "metadata": {},
   "outputs": [
    {
     "data": {
      "text/html": [
       "<div>\n",
       "<style scoped>\n",
       "    .dataframe tbody tr th:only-of-type {\n",
       "        vertical-align: middle;\n",
       "    }\n",
       "\n",
       "    .dataframe tbody tr th {\n",
       "        vertical-align: top;\n",
       "    }\n",
       "\n",
       "    .dataframe thead th {\n",
       "        text-align: right;\n",
       "    }\n",
       "</style>\n",
       "<table border=\"1\" class=\"dataframe\">\n",
       "  <thead>\n",
       "    <tr style=\"text-align: right;\">\n",
       "      <th></th>\n",
       "      <th>sample_id</th>\n",
       "      <th>treatment</th>\n",
       "      <th>pH</th>\n",
       "      <th>temperature</th>\n",
       "      <th>relative_humidity</th>\n",
       "      <th>grade</th>\n",
       "    </tr>\n",
       "  </thead>\n",
       "  <tbody>\n",
       "    <tr>\n",
       "      <th>0</th>\n",
       "      <td>1</td>\n",
       "      <td>A</td>\n",
       "      <td>5.7</td>\n",
       "      <td>35.6</td>\n",
       "      <td>90</td>\n",
       "      <td>1</td>\n",
       "    </tr>\n",
       "    <tr>\n",
       "      <th>1</th>\n",
       "      <td>2</td>\n",
       "      <td>B</td>\n",
       "      <td>6.0</td>\n",
       "      <td>36.0</td>\n",
       "      <td>89</td>\n",
       "      <td>1</td>\n",
       "    </tr>\n",
       "    <tr>\n",
       "      <th>2</th>\n",
       "      <td>3</td>\n",
       "      <td>A</td>\n",
       "      <td>5.6</td>\n",
       "      <td>36.1</td>\n",
       "      <td>88</td>\n",
       "      <td>0</td>\n",
       "    </tr>\n",
       "    <tr>\n",
       "      <th>3</th>\n",
       "      <td>4</td>\n",
       "      <td>A</td>\n",
       "      <td>5.7</td>\n",
       "      <td>35.3</td>\n",
       "      <td>92</td>\n",
       "      <td>2</td>\n",
       "    </tr>\n",
       "    <tr>\n",
       "      <th>4</th>\n",
       "      <td>5</td>\n",
       "      <td>B</td>\n",
       "      <td>6.3</td>\n",
       "      <td>36.2</td>\n",
       "      <td>85</td>\n",
       "      <td>0</td>\n",
       "    </tr>\n",
       "  </tbody>\n",
       "</table>\n",
       "</div>"
      ],
      "text/plain": [
       "   sample_id treatment   pH  temperature  relative_humidity  grade\n",
       "0          1         A  5.7         35.6                 90      1\n",
       "1          2         B  6.0         36.0                 89      1\n",
       "2          3         A  5.6         36.1                 88      0\n",
       "3          4         A  5.7         35.3                 92      2\n",
       "4          5         B  6.3         36.2                 85      0"
      ]
     },
     "execution_count": 3,
     "metadata": {},
     "output_type": "execute_result"
    }
   ],
   "source": [
    "import pandas as pd\n",
    "\n",
    "df = pd.read_excel('data.xlsx')\n",
    "df.head()"
   ]
  },
  {
   "cell_type": "code",
   "execution_count": 4,
   "id": "cef8eea9",
   "metadata": {},
   "outputs": [
    {
     "data": {
      "text/html": [
       "<div>\n",
       "<style scoped>\n",
       "    .dataframe tbody tr th:only-of-type {\n",
       "        vertical-align: middle;\n",
       "    }\n",
       "\n",
       "    .dataframe tbody tr th {\n",
       "        vertical-align: top;\n",
       "    }\n",
       "\n",
       "    .dataframe thead th {\n",
       "        text-align: right;\n",
       "    }\n",
       "</style>\n",
       "<table border=\"1\" class=\"dataframe\">\n",
       "  <thead>\n",
       "    <tr style=\"text-align: right;\">\n",
       "      <th></th>\n",
       "      <th>sum_sq</th>\n",
       "      <th>df</th>\n",
       "      <th>F</th>\n",
       "      <th>PR(&gt;F)</th>\n",
       "    </tr>\n",
       "  </thead>\n",
       "  <tbody>\n",
       "    <tr>\n",
       "      <th>C(treatment)</th>\n",
       "      <td>0.1</td>\n",
       "      <td>1.0</td>\n",
       "      <td>0.117647</td>\n",
       "      <td>0.740439</td>\n",
       "    </tr>\n",
       "    <tr>\n",
       "      <th>Residual</th>\n",
       "      <td>6.8</td>\n",
       "      <td>8.0</td>\n",
       "      <td>NaN</td>\n",
       "      <td>NaN</td>\n",
       "    </tr>\n",
       "  </tbody>\n",
       "</table>\n",
       "</div>"
      ],
      "text/plain": [
       "              sum_sq   df         F    PR(>F)\n",
       "C(treatment)     0.1  1.0  0.117647  0.740439\n",
       "Residual         6.8  8.0       NaN       NaN"
      ]
     },
     "execution_count": 4,
     "metadata": {},
     "output_type": "execute_result"
    }
   ],
   "source": [
    "import statsmodels.api as sm\n",
    "from statsmodels.formula.api import ols\n",
    "\n",
    "model = ols('grade ~ C(treatment)', data=df).fit()\n",
    "anova_table = sm.stats.anova_lm(model, typ=2)\n",
    "anova_table"
   ]
  },
  {
   "cell_type": "code",
   "execution_count": 5,
   "id": "2fb42b55",
   "metadata": {},
   "outputs": [
    {
     "data": {
      "text/html": [
       "<div>\n",
       "<style scoped>\n",
       "    .dataframe tbody tr th:only-of-type {\n",
       "        vertical-align: middle;\n",
       "    }\n",
       "\n",
       "    .dataframe tbody tr th {\n",
       "        vertical-align: top;\n",
       "    }\n",
       "\n",
       "    .dataframe thead th {\n",
       "        text-align: right;\n",
       "    }\n",
       "</style>\n",
       "<table border=\"1\" class=\"dataframe\">\n",
       "  <thead>\n",
       "    <tr style=\"text-align: right;\">\n",
       "      <th></th>\n",
       "      <th>sum_sq</th>\n",
       "      <th>df</th>\n",
       "      <th>F</th>\n",
       "      <th>PR(&gt;F)</th>\n",
       "    </tr>\n",
       "  </thead>\n",
       "  <tbody>\n",
       "    <tr>\n",
       "      <th>C(treatment)</th>\n",
       "      <td>0.030047</td>\n",
       "      <td>1.0</td>\n",
       "      <td>0.040063</td>\n",
       "      <td>0.851123</td>\n",
       "    </tr>\n",
       "    <tr>\n",
       "      <th>C(humidity_cat)</th>\n",
       "      <td>3.363380</td>\n",
       "      <td>2.0</td>\n",
       "      <td>2.242254</td>\n",
       "      <td>0.222263</td>\n",
       "    </tr>\n",
       "    <tr>\n",
       "      <th>C(treatment):C(humidity_cat)</th>\n",
       "      <td>0.436620</td>\n",
       "      <td>2.0</td>\n",
       "      <td>0.291080</td>\n",
       "      <td>0.762043</td>\n",
       "    </tr>\n",
       "    <tr>\n",
       "      <th>Residual</th>\n",
       "      <td>3.000000</td>\n",
       "      <td>4.0</td>\n",
       "      <td>NaN</td>\n",
       "      <td>NaN</td>\n",
       "    </tr>\n",
       "  </tbody>\n",
       "</table>\n",
       "</div>"
      ],
      "text/plain": [
       "                                sum_sq   df         F    PR(>F)\n",
       "C(treatment)                  0.030047  1.0  0.040063  0.851123\n",
       "C(humidity_cat)               3.363380  2.0  2.242254  0.222263\n",
       "C(treatment):C(humidity_cat)  0.436620  2.0  0.291080  0.762043\n",
       "Residual                      3.000000  4.0       NaN       NaN"
      ]
     },
     "execution_count": 5,
     "metadata": {},
     "output_type": "execute_result"
    }
   ],
   "source": [
    "df['humidity_cat'] = pd.cut(df['relative_humidity'], bins=[79, 85, 90, 95], labels=['Low', 'Medium', 'High'])\n",
    "\n",
    "model = ols('grade ~ C(treatment) + C(humidity_cat) + C(treatment):C(humidity_cat)', data=df).fit()\n",
    "anova_table2 = sm.stats.anova_lm(model, typ=2)\n",
    "anova_table2"
   ]
  },
  {
   "cell_type": "code",
   "execution_count": 6,
   "id": "92a2c3a5",
   "metadata": {},
   "outputs": [
    {
     "data": {
      "text/html": [
       "<table class=\"simpletable\">\n",
       "<caption>Multiple Comparison of Means - Tukey HSD, FWER=0.05</caption>\n",
       "<tr>\n",
       "  <th>group1</th> <th>group2</th> <th>meandiff</th>  <th>p-adj</th>  <th>lower</th>   <th>upper</th> <th>reject</th>\n",
       "</tr>\n",
       "<tr>\n",
       "     <td>A</td>      <td>B</td>      <td>0.2</td>   <td>0.7404</td> <td>-1.1446</td> <td>1.5446</td>  <td>False</td>\n",
       "</tr>\n",
       "</table>"
      ],
      "text/latex": [
       "\\begin{center}\n",
       "\\begin{tabular}{ccccccc}\n",
       "\\toprule\n",
       "\\textbf{group1} & \\textbf{group2} & \\textbf{meandiff} & \\textbf{p-adj} & \\textbf{lower} & \\textbf{upper} & \\textbf{reject}  \\\\\n",
       "\\midrule\n",
       "       A        &        B        &        0.2        &     0.7404     &    -1.1446     &     1.5446     &      False       \\\\\n",
       "\\bottomrule\n",
       "\\end{tabular}\n",
       "%\\caption{Multiple Comparison of Means - Tukey HSD, FWER=0.05}\n",
       "\\end{center}"
      ],
      "text/plain": [
       "<class 'statsmodels.iolib.table.SimpleTable'>"
      ]
     },
     "execution_count": 6,
     "metadata": {},
     "output_type": "execute_result"
    }
   ],
   "source": [
    "from statsmodels.stats.multicomp import pairwise_tukeyhsd\n",
    "\n",
    "tukey = pairwise_tukeyhsd(endog=df['grade'], groups=df['treatment'], alpha=0.05)\n",
    "tukey.summary()"
   ]
  },
  {
   "cell_type": "code",
   "execution_count": 7,
   "id": "06d94708",
   "metadata": {},
   "outputs": [
    {
     "name": "stdout",
     "output_type": "stream",
     "text": [
      "ANOVA:\n",
      "               sum_sq   df         F    PR(>F)\n",
      "C(treatment)     0.1  1.0  0.117647  0.740439\n",
      "Residual         6.8  8.0       NaN       NaN\n",
      "\n",
      "Group means:\n",
      " treatment\n",
      "B    1.0\n",
      "A    0.8\n",
      "Name: grade, dtype: float64\n",
      "\n",
      "Duncan’s Multiple Range Test Results:\n",
      "  Comparison  Mean Diff  Critical Range Significant\n",
      "0     B vs A        0.2           1.345          No\n"
     ]
    }
   ],
   "source": [
    "import pandas as pd\n",
    "import numpy as np\n",
    "from itertools import combinations\n",
    "from scipy.stats import studentized_range\n",
    "import statsmodels.api as sm\n",
    "from statsmodels.formula.api import ols\n",
    "\n",
    "\n",
    "# --- One-Way ANOVA ---\n",
    "model = ols('grade ~ C(treatment)', data=df).fit()  # <--- Grade vs Treatment\n",
    "anova = sm.stats.anova_lm(model, typ=2)\n",
    "\n",
    "print(\"ANOVA:\\n\", anova)\n",
    "\n",
    "# --- Step 1: Group Means ---\n",
    "groups = df.groupby('treatment')['grade']\n",
    "means = groups.mean()\n",
    "n_groups = groups.size()\n",
    "group_labels = means.index.tolist()\n",
    "sorted_means = means.sort_values(ascending=False)\n",
    "\n",
    "print(\"\\nGroup means:\\n\", sorted_means)\n",
    "\n",
    "# --- Step 2: Mean Square Error (MSE) from ANOVA ---\n",
    "mse = anova['sum_sq']['Residual'] / anova['df']['Residual']\n",
    "df_error = anova['df']['Residual']\n",
    "\n",
    "# --- Step 3: Perform pairwise comparisons ---\n",
    "alpha = 0.05\n",
    "results = []\n",
    "\n",
    "for (i, g1), (j, g2) in combinations(enumerate(sorted_means.index), 2):\n",
    "    m1, m2 = sorted_means[g1], sorted_means[g2]\n",
    "    n1, n2 = n_groups[g1], n_groups[g2]\n",
    "    k = abs(i - j) + 1  # Number of groups between, used in Duncan q\n",
    "    q_crit = studentized_range.ppf(1 - alpha, k, df_error)\n",
    "    se = np.sqrt(mse * (1 / n1 + 1 / n2))\n",
    "    diff = abs(m1 - m2)\n",
    "    lsd = q_crit * se / np.sqrt(2)\n",
    "    sig = diff > lsd\n",
    "    results.append({\n",
    "        'Comparison': f\"{g1} vs {g2}\",\n",
    "        'Mean Diff': round(diff, 3),\n",
    "        'Critical Range': round(lsd, 3),\n",
    "        'Significant': 'Yes' if sig else 'No'\n",
    "    })\n",
    "\n",
    "# --- Step 4: Display Results ---\n",
    "print(\"\\nDuncan’s Multiple Range Test Results:\")\n",
    "duncan_df = pd.DataFrame(results)\n",
    "print(duncan_df)\n"
   ]
  },
  {
   "cell_type": "code",
   "execution_count": 8,
   "id": "96900a8d",
   "metadata": {},
   "outputs": [
    {
     "name": "stdout",
     "output_type": "stream",
     "text": [
      "t = -0.343, p = 0.740\n"
     ]
    }
   ],
   "source": [
    "from scipy.stats import ttest_ind\n",
    "\n",
    "groupA = df[df['treatment'] == 'A']['grade']\n",
    "groupB = df[df['treatment'] == 'B']['grade']\n",
    "\n",
    "t_stat, p_val = ttest_ind(groupA, groupB)\n",
    "print(f't = {t_stat:.3f}, p = {p_val:.3f}')"
   ]
  }
 ],
 "metadata": {
  "kernelspec": {
   "display_name": ".venv",
   "language": "python",
   "name": "python3"
  },
  "language_info": {
   "codemirror_mode": {
    "name": "ipython",
    "version": 3
   },
   "file_extension": ".py",
   "mimetype": "text/x-python",
   "name": "python",
   "nbconvert_exporter": "python",
   "pygments_lexer": "ipython3",
   "version": "3.11.9"
  }
 },
 "nbformat": 4,
 "nbformat_minor": 5
}
